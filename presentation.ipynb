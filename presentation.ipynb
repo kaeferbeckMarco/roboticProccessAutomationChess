{
 "cells": [
  {
   "metadata": {
    "ExecuteTime": {
     "end_time": "2024-11-20T16:33:50.483453Z",
     "start_time": "2024-11-20T16:29:50.451313Z"
    }
   },
   "cell_type": "code",
   "source": [
    "import subprocess\n",
    "\n",
    "def run_chess_test(opening_moves, timeout=240):\n",
    "    # Join the moves into a single string without list formatting\n",
    "    opening_moves_str = \" \".join(str(move) for move in opening_moves)\n",
    "\n",
    "    # Define the command and options for running the Robot Framework script\n",
    "    robot_command = [\n",
    "        \"robot\",\n",
    "        \"--variable\", f\"OPENING_MOVES:{opening_moves_str}\",\n",
    "        \"chessML.robot\"\n",
    "    ]\n",
    "    \n",
    "    print(\"Running command:\", robot_command)\n",
    "    # Start the Robot Framework process\n",
    "    process = subprocess.Popen(robot_command, stdout=subprocess.PIPE, stderr=subprocess.PIPE, text=True)\n",
    "\n",
    "    try:\n",
    "        # Capture and print the output in real-time, with a timeout\n",
    "        stdout, stderr = process.communicate(timeout=timeout)\n",
    "\n",
    "        print(stdout) \n",
    "        if stderr:\n",
    "            print(stderr)\n",
    "\n",
    "    except subprocess.TimeoutExpired:\n",
    "        print(\"Process timed out; forcing termination.\")\n",
    "        process.kill()  # Forcefully terminate the process after timeout\n",
    "        stdout, stderr = process.communicate()\n",
    "        print(stdout)\n",
    "        if stderr:\n",
    "            print(stderr)\n",
    "\n",
    "    except Exception as e:\n",
    "        print(f\"An error occurred: {e}\")\n",
    "\n",
    "    finally:\n",
    "        process.terminate()\n",
    "\n",
    "    print(\"Process finished and resources cleaned up.\\n\")\n",
    "\n",
    "#list of opening moves to test\n",
    "opening_moves = [[\"e2e4\", \"g1f3\", \"f1c4\"], [\"e2e4\", \"e7e5\", \"f1c4\"]]\n",
    "\n",
    "run_chess_test(opening_moves[0])"
   ],
   "id": "2ad50d257b0931bb",
   "outputs": [
    {
     "name": "stdout",
     "output_type": "stream",
     "text": [
      "Running command: ['robot', '--variable', 'OPENING_MOVES:e2e4 g1f3 f1c4', 'chessML.robot']\n",
      "Process timed out; forcing termination.\n",
      "==============================================================================\n",
      "chessML                                                                       \n",
      "==============================================================================\n",
      "Test PlayOpening                                                      | PASS |\n",
      "------------------------------------------------------------------------------\n",
      "chessML                                                               | PASS |\n",
      "1 test, 1 passed, 0 failed\n",
      "==============================================================================\n",
      "Output:  /Users/marcokaferbeck/DataspellProjects/roboticProccessAutomationChess/output.xml\n",
      "Log:     /Users/marcokaferbeck/DataspellProjects/roboticProccessAutomationChess/log.html\n",
      "Report:  /Users/marcokaferbeck/DataspellProjects/roboticProccessAutomationChess/report.html\n",
      "\n",
      "Process finished and resources cleaned up.\n",
      "\n"
     ]
    }
   ],
   "execution_count": 5
  },
  {
   "cell_type": "code",
   "id": "initial_id",
   "metadata": {
    "collapsed": true,
    "ExecuteTime": {
     "end_time": "2024-11-20T16:33:50.562559Z",
     "start_time": "2024-11-20T16:33:50.488815Z"
    }
   },
   "source": [
    "import pandas as pd\n",
    "from sklearn.ensemble import RandomForestClassifier\n",
    "from sklearn.model_selection import train_test_split\n",
    "\n",
    "# Load data\n",
    "data = pd.read_csv('game_results.csv')\n",
    "X = data[['move1', 'move2', 'move3', 'bot1', 'bot2']]\n",
    "y = data['Result']\n",
    "\n",
    "# Update y to replace any text inside parentheses with an empty string, only for \"Draw\" results\n",
    "y = y.str.replace(r\"\\(.*\\)\", \"\", regex=True).str.strip()\n",
    "\n",
    "# Convert categorical data to numeric for ML\n",
    "X = pd.get_dummies(X)\n",
    "\n",
    "# Split the data into training and testing sets\n",
    "X_train, X_test, y_train, y_test = train_test_split(X, y, test_size=0.2)\n",
    "\n",
    "# Train the RandomForestClassifier on the training set\n",
    "model = RandomForestClassifier()\n",
    "model.fit(X_train, y_train)\n",
    "\n",
    "# Evaluate the model on the training set\n",
    "train_score = model.score(X_train, y_train)\n",
    "\n",
    "# Evaluate the model on the testing set\n",
    "test_score = model.score(X_test, y_test)\n",
    "\n",
    "# Print the training and testing scores\n",
    "print(\"Training score:\", train_score)\n",
    "print(\"Testing score:\", test_score)\n",
    "\n",
    "# Create a sample input for prediction\n",
    "sample_input = pd.DataFrame({\n",
    "    'move1': ['e2e4'],\n",
    "    'move2': ['e7e5'],\n",
    "    'move3': ['g1f3'],\n",
    "    'bot1': ['Stockfish'],\n",
    "    'bot2': ['LCZero']\n",
    "})\n",
    "\n",
    "# Convert the sample input to the same format as the training data\n",
    "sample_input = pd.get_dummies(sample_input)\n",
    "sample_input = sample_input.reindex(columns=X.columns, fill_value=0)\n",
    "\n",
    "# Predict the result for the sample input\n",
    "prediction = model.predict(sample_input)\n",
    "\n",
    "# Print the prediction result\n",
    "print(\"Prediction for sample input:\", prediction[0])"
   ],
   "outputs": [
    {
     "name": "stdout",
     "output_type": "stream",
     "text": [
      "Training score: 0.8833333333333333\n",
      "Testing score: 0.75\n",
      "Prediction for sample input: White wins!\n"
     ]
    }
   ],
   "execution_count": 6
  },
  {
   "metadata": {},
   "cell_type": "code",
   "outputs": [],
   "execution_count": null,
   "source": "",
   "id": "5f94fcf520c4e687"
  }
 ],
 "metadata": {
  "kernelspec": {
   "display_name": "Python 3",
   "language": "python",
   "name": "python3"
  },
  "language_info": {
   "codemirror_mode": {
    "name": "ipython",
    "version": 2
   },
   "file_extension": ".py",
   "mimetype": "text/x-python",
   "name": "python",
   "nbconvert_exporter": "python",
   "pygments_lexer": "ipython2",
   "version": "2.7.6"
  }
 },
 "nbformat": 4,
 "nbformat_minor": 5
}
